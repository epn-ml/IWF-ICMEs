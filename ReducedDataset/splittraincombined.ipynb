{
 "cells": [
  {
   "cell_type": "markdown",
   "id": "adequate-greeting",
   "metadata": {
    "tags": []
   },
   "source": [
    "This notebook documents the code used for the automatic detection of ICMEs in the full dataset with combined training. It is running on Python 3.8.5 with dependencies listed in the requirements.txt file."
   ]
  },
  {
   "cell_type": "code",
   "execution_count": 1,
   "id": "e03d3d09",
   "metadata": {},
   "outputs": [
    {
     "name": "stdout",
     "output_type": "stream",
     "text": [
      "WARNING:tensorflow:From /tmp/ipykernel_2876687/250635837.py:9: is_gpu_available (from tensorflow.python.framework.test_util) is deprecated and will be removed in a future version.\n",
      "Instructions for updating:\n",
      "Use `tf.config.list_physical_devices('GPU')` instead.\n"
     ]
    },
    {
     "name": "stderr",
     "output_type": "stream",
     "text": [
      "2022-07-25 22:37:13.252322: I tensorflow/core/platform/cpu_feature_guard.cc:142] This TensorFlow binary is optimized with oneAPI Deep Neural Network Library (oneDNN) to use the following CPU instructions in performance-critical operations:  AVX2 FMA\n",
      "To enable them in other operations, rebuild TensorFlow with the appropriate compiler flags.\n"
     ]
    },
    {
     "data": {
      "text/plain": [
       "True"
      ]
     },
     "execution_count": 1,
     "metadata": {},
     "output_type": "execute_result"
    },
    {
     "name": "stderr",
     "output_type": "stream",
     "text": [
      "2022-07-25 22:37:14.524785: I tensorflow/core/common_runtime/gpu/gpu_device.cc:1510] Created device /device:GPU:0 with 15405 MB memory:  -> device: 0, name: Tesla P100-PCIE-16GB, pci bus id: 0000:01:00.0, compute capability: 6.0\n"
     ]
    }
   ],
   "source": [
    "#only run if GPU available\n",
    "\n",
    "#Set devices_id\n",
    "import os\n",
    "os.environ[\"CUDA_DEVICE_ORDER\"]=\"PCI_BUS_ID\" \n",
    "os.environ[\"CUDA_VISIBLE_DEVICES\"]=\"0\"\n",
    "\n",
    "import tensorflow as tf\n",
    "tf.test.is_gpu_available()"
   ]
  },
  {
   "cell_type": "code",
   "execution_count": 2,
   "id": "southeast-convenience",
   "metadata": {},
   "outputs": [],
   "source": [
    "# Don't print warnings\n",
    "import warnings\n",
    "warnings.filterwarnings('ignore')\n",
    "\n",
    "import pandas as pds\n",
    "import datetime\n",
    "import numpy as np\n",
    "import matplotlib\n",
    "import matplotlib.pyplot as plt\n",
    "import pickle\n",
    "\n",
    "from sklearn.preprocessing import StandardScaler\n",
    "\n",
    "import tensorflow as tf\n",
    "from tensorflow.keras.metrics import Precision, Recall, MeanIoU\n",
    "from tensorflow.keras.optimizers import Adam, Nadam, SGD\n",
    "from tensorflow.keras.callbacks import EarlyStopping, ModelCheckpoint, ReduceLROnPlateau, CSVLogger\n",
    "from tensorflow.keras.models import load_model\n",
    "from tensorflow.keras.utils import CustomObjectScope"
   ]
  },
  {
   "cell_type": "code",
   "execution_count": 3,
   "id": "d1b4ab47",
   "metadata": {},
   "outputs": [],
   "source": [
    "import event as evt\n",
    "\n",
    "# load ICME catalog data\n",
    "\n",
    "[ic,header,parameters] = pickle.load(open('data/HELCATS_ICMECAT_v20_pandas.p', \"rb\" ))\n",
    "\n",
    "\n",
    "# extract important values\n",
    "\n",
    "isc = ic.loc[:,'sc_insitu'] \n",
    "starttime = ic.loc[:,'icme_start_time']\n",
    "endtime = ic.loc[:,'mo_end_time']\n",
    "\n",
    "# Event indices from Wind, STEREO A and STEREO B\n",
    "\n",
    "iwinind = np.where(isc == 'Wind')[0]\n",
    "istaind = np.where(isc == 'STEREO-A')[0]\n",
    "istbind = np.where(isc == 'STEREO-B')[0]\n",
    "\n",
    "winbegin = starttime[iwinind]\n",
    "winend = endtime[iwinind]\n",
    "\n",
    "stabegin = starttime[istaind]\n",
    "staend = endtime[istaind]\n",
    "\n",
    "stbbegin = starttime[istbind]\n",
    "stbend = endtime[istbind]\n",
    "\n",
    "# get list of events\n",
    "\n",
    "evtListw = evt.read_cat(winbegin, winend, iwinind)\n",
    "evtLista = evt.read_cat(stabegin, staend, istaind)\n",
    "evtListb = evt.read_cat(stbbegin, stbend, istbind)\n",
    "\n",
    "# Load Wind data\n",
    "[win, winheader] = pickle.load(open(\"data/wind_2007_2021_heeq_ndarray.p\", \"rb\"))\n",
    "\n",
    "# Load STEREO-A data\n",
    "[sta, atta] = pickle.load(open(\"data/stereoa_2007_2021_sceq_ndarray.p\", \"rb\"))\n",
    "\n",
    "# Load STEREO-B data\n",
    "[stb, attb, bheader] = pickle.load(open(\"data/stereob_2007_2014_sceq_ndarray.p\", \"rb\"))"
   ]
  },
  {
   "cell_type": "code",
   "execution_count": 4,
   "id": "6ed50218",
   "metadata": {},
   "outputs": [],
   "source": [
    "import features\n",
    "\n",
    "# pre process on the WIND data set\n",
    "\n",
    "datawin = pds.DataFrame(win)\n",
    "datawin['time'] = matplotlib.dates.num2date(datawin['time'], tz=None) \n",
    "datawin['time'] = pds.to_datetime(datawin['time'], format=\"%Y/%m/%d %H:%M\")\n",
    "datawin.set_index('time',  inplace=True)\n",
    "datawin.index.name = None\n",
    "datawin.index = datawin.index.tz_localize(None)\n",
    "datawin.drop(['x', 'y', 'z', 'r', 'lat', 'lon'], axis = 1,  inplace=True)\n",
    "\n",
    "# compute additional features\n",
    "\n",
    "features.computeBetawiki(datawin)\n",
    "features.computePdyn(datawin)\n",
    "features.computeTexrat(datawin)\n",
    "\n",
    "# resample data\n",
    "datawin = datawin.resample('10T').mean().dropna()\n",
    "\n",
    "# pre process on the STEREO A data set\n",
    "\n",
    "dataa = pds.DataFrame(sta)\n",
    "dataa['time'] = matplotlib.dates.num2date(dataa['time'], tz=None) \n",
    "dataa['time'] = pds.to_datetime(dataa['time'], format=\"%Y/%m/%d %H:%M\")\n",
    "dataa.set_index('time',  inplace=True)\n",
    "dataa.index.name = None\n",
    "dataa.index = dataa.index.tz_localize(None)\n",
    "dataa.drop(['x', 'y', 'z', 'r', 'lat', 'lon'], axis = 1,  inplace=True)\n",
    "\n",
    "# compute additional features\n",
    "\n",
    "features.computeBetawiki(dataa)\n",
    "features.computePdyn(dataa)\n",
    "features.computeTexrat(dataa)\n",
    "\n",
    "# resample data\n",
    "dataa = dataa.resample('10T').mean().dropna()\n",
    "\n",
    "# pre process on the STEREO B data set\n",
    "\n",
    "datab = pds.DataFrame(stb)\n",
    "datab['time'] = matplotlib.dates.num2date(datab['time'], tz=None) \n",
    "datab['time'] = pds.to_datetime(datab['time'], format=\"%Y/%m/%d %H:%M\")\n",
    "datab.set_index('time',  inplace=True)\n",
    "datab.index.name = None\n",
    "datab.index = datab.index.tz_localize(None)\n",
    "datab.drop(['x', 'y', 'z', 'r', 'lat', 'lon'], axis = 1,  inplace=True)\n",
    "\n",
    "# compute additional features\n",
    "\n",
    "features.computeBetawiki(datab)\n",
    "features.computePdyn(datab)\n",
    "features.computeTexrat(datab)\n",
    "\n",
    "# resample data\n",
    "datab = datab.resample('10T').mean().dropna()"
   ]
  },
  {
   "cell_type": "code",
   "execution_count": 5,
   "id": "1f262667",
   "metadata": {},
   "outputs": [],
   "source": [
    "# delete empty events\n",
    "\n",
    "evtListw = evt.clearempties(evtListw,datawin)\n",
    "evtLista = evt.clearempties(evtLista,dataa)\n",
    "evtListb = evt.clearempties(evtListb,datab)"
   ]
  },
  {
   "cell_type": "raw",
   "id": "special-physiology",
   "metadata": {},
   "source": [
    "import event as evt\n",
    "\n",
    "# plot example event for WIND\n",
    "\n",
    "evtListw[0].iwfplotnopred(datawin, 20, 'Wind ')\n",
    "\n",
    "# plot example event for STEREO A\n",
    "\n",
    "evtLista[1].iwfplotnopred(dataa, 20, 'STEREO A ')\n",
    "\n",
    "# plot example event for STEREO B\n",
    "\n",
    "evtListb[2].iwfplotnopred(datab, 20, 'STEREO B ')"
   ]
  },
  {
   "cell_type": "code",
   "execution_count": 6,
   "id": "surgical-gross",
   "metadata": {},
   "outputs": [],
   "source": [
    "# perform scaling on WIND\n",
    "\n",
    "scale = StandardScaler()\n",
    "scale.fit(datawin)\n",
    "\n",
    "wind_scaled = pds.DataFrame(index = datawin.index, columns = datawin.columns, data = scale.transform(datawin))\n",
    "\n",
    "# perform scaling on STEREO A\n",
    "\n",
    "scale = StandardScaler()\n",
    "scale.fit(dataa)\n",
    "\n",
    "sta_scaled = pds.DataFrame(index = dataa.index, columns = dataa.columns, data = scale.transform(dataa))\n",
    "\n",
    "# perform scaling on STEREO B\n",
    "\n",
    "scale = StandardScaler()\n",
    "scale.fit(datab)\n",
    "\n",
    "stb_scaled = pds.DataFrame(index = datab.index, columns = datab.columns, data = scale.transform(datab))"
   ]
  },
  {
   "cell_type": "code",
   "execution_count": 7,
   "id": "f83a2267",
   "metadata": {},
   "outputs": [],
   "source": [
    "import preprocess\n",
    "\n",
    "truelabelw = pds.DataFrame(preprocess.get_truelabel(wind_scaled, evtListw))\n",
    "truelabela = pds.DataFrame(preprocess.get_truelabel(sta_scaled, evtLista))\n",
    "truelabelb = pds.DataFrame(preprocess.get_truelabel(stb_scaled, evtListb))"
   ]
  },
  {
   "cell_type": "code",
   "execution_count": 8,
   "id": "089bc758",
   "metadata": {
    "scrolled": true
   },
   "outputs": [
    {
     "name": "stdout",
     "output_type": "stream",
     "text": [
      "label    0.043376\n",
      "dtype: float64\n",
      "label    0.044865\n",
      "dtype: float64\n",
      "label    0.056375\n",
      "dtype: float64\n"
     ]
    }
   ],
   "source": [
    "split = 2\n",
    "testw, valw, trainw = preprocess.getbalancedsplit(split, 'wind') \n",
    "testa, vala, traina = preprocess.getbalancedsplit(split, 'stereoa') \n",
    "testb, valb, trainb = preprocess.getbalancedsplit(split, 'stereob') \n",
    "\n",
    "X_testw, Y_testw, X_valw, Y_valw, X_trainw, Y_trainw = preprocess.getdatas(trainw,testw,valw,wind_scaled,truelabelw)\n",
    "X_testa, Y_testa, X_vala, Y_vala, X_traina, Y_traina = preprocess.getdatas(traina,testa,vala,sta_scaled,truelabela)\n",
    "X_testb, Y_testb, X_valb, Y_valb, X_trainb, Y_trainb = preprocess.getdatas(trainb,testb,valb,stb_scaled,truelabelb)\n",
    "\n",
    "\n",
    "print(preprocess.printpercentage(Y_testw))\n",
    "print(preprocess.printpercentage(Y_trainw))\n",
    "print(preprocess.printpercentage(Y_valw))"
   ]
  },
  {
   "cell_type": "markdown",
   "id": "d97c340f",
   "metadata": {},
   "source": [
    "To train the model on all datasets at once, we need to join them."
   ]
  },
  {
   "cell_type": "code",
   "execution_count": 9,
   "id": "3ef99d8f",
   "metadata": {},
   "outputs": [],
   "source": [
    "X_train = X_trainw.append(X_traina, sort=False)\n",
    "X_train = X_train.append(X_trainb, sort = False)\n",
    "\n",
    "Y_train = Y_trainw.append(Y_traina, sort=False)\n",
    "Y_train = Y_train.append(Y_trainb, sort = False)\n",
    "\n",
    "####\n",
    "\n",
    "X_val = X_valw.append(X_vala, sort=False)\n",
    "X_val = X_val.append(X_valb, sort = False)\n",
    "\n",
    "Y_val = Y_valw.append(Y_vala, sort=False)\n",
    "Y_val = Y_val.append(Y_valb, sort = False)\n",
    "\n",
    "####\n",
    "\n",
    "X_test = X_testw.append(X_testa, sort=False)\n",
    "X_test = X_test.append(X_testb, sort = False)\n",
    "\n",
    "Y_test = Y_testw.append(Y_testa, sort=False)\n",
    "Y_test = Y_test.append(Y_testb, sort = False)"
   ]
  },
  {
   "cell_type": "code",
   "execution_count": 10,
   "id": "81c89224",
   "metadata": {},
   "outputs": [],
   "source": [
    "from metrics import dice_coef, dice_loss, true_skill_score\n",
    "from unetgen import UnetGen\n",
    "from cycliclr import *\n",
    "\n",
    "model_path = \"model\" + str(split)\n",
    "\n",
    "## Parameters\n",
    "\n",
    "C = 10 # number of channels\n",
    "t = 1024 # window size\n",
    "image_size = (t,1,C)\n",
    "batch_size = 32\n",
    "epochs =500\n",
    "expclr = CyclicLR(base_lr=0.00001, max_lr=0.01, step_size=1000)\n",
    "\n",
    "## Generator\n",
    "train_gen = UnetGen(X_train, Y_train, length=int(t), stride = 120, shuffle = True, batch_size=batch_size)\n",
    "valid_gen = UnetGen(X_val, Y_val, length=int(t), stride = 120,shuffle = True,batch_size=batch_size)"
   ]
  },
  {
   "cell_type": "code",
   "execution_count": 11,
   "id": "c0a8db8d",
   "metadata": {},
   "outputs": [
    {
     "name": "stderr",
     "output_type": "stream",
     "text": [
      "2022-07-25 22:39:03.579874: I tensorflow/core/common_runtime/gpu/gpu_device.cc:1510] Created device /job:localhost/replica:0/task:0/device:GPU:0 with 15405 MB memory:  -> device: 0, name: Tesla P100-PCIE-16GB, pci bus id: 0000:01:00.0, compute capability: 6.0\n"
     ]
    }
   ],
   "source": [
    "from model import ResUnetPlusPlus\n",
    "\n",
    "#### ResUnet++\n",
    "\n",
    "arch = ResUnetPlusPlus(input_shape=image_size)\n",
    "model = arch.build_model()\n",
    "\n",
    "optimizer = Adam()\n",
    "\n",
    "metrics = [Recall(), Precision(), dice_coef,true_skill_score, MeanIoU(num_classes=2)]\n",
    "model.compile(loss=dice_loss, optimizer=optimizer, metrics=metrics) \n",
    "\n",
    "checkpoint = ModelCheckpoint(model_path, verbose=1, save_best_only=True)\n",
    "early_stopping = EarlyStopping(monitor='val_loss', patience=50, restore_best_weights=True)\n",
    "callbacks = [checkpoint, early_stopping,expclr]\n"
   ]
  },
  {
   "cell_type": "code",
   "execution_count": 12,
   "id": "28ea2c25",
   "metadata": {},
   "outputs": [],
   "source": [
    "#### uncomment to train\n",
    "#model.fit(train_gen,validation_data=valid_gen,epochs=epochs,callbacks=callbacks)"
   ]
  },
  {
   "cell_type": "markdown",
   "id": "9fadea7f",
   "metadata": {},
   "source": [
    "After the training process is finished, we continue by testing our model on unseen data:"
   ]
  },
  {
   "cell_type": "code",
   "execution_count": 13,
   "id": "1b9f246b",
   "metadata": {},
   "outputs": [
    {
     "name": "stderr",
     "output_type": "stream",
     "text": [
      "2022-07-25 22:39:10.875028: I tensorflow/compiler/mlir/mlir_graph_optimization_pass.cc:185] None of the MLIR Optimization Passes are enabled (registered 2)\n",
      "2022-07-25 22:39:12.752435: I tensorflow/stream_executor/cuda/cuda_dnn.cc:369] Loaded cuDNN version 8200\n"
     ]
    },
    {
     "name": "stdout",
     "output_type": "stream",
     "text": [
      "149/149 [==============================] - 7s 24ms/step - loss: 0.2153 - recall: 0.4385 - precision: 0.7554 - dice_coef: 0.7847 - true_skill_score: 0.8198 - mean_io_u: 0.6646\n"
     ]
    },
    {
     "name": "stderr",
     "output_type": "stream",
     "text": [
      "100%|█████████████████████████████████████████| 149/149 [00:15<00:00,  9.85it/s]\n"
     ]
    },
    {
     "name": "stdout",
     "output_type": "stream",
     "text": [
      "175/175 [==============================] - 4s 24ms/step - loss: 0.2247 - recall: 0.6328 - precision: 0.6005 - dice_coef: 0.7753 - true_skill_score: 0.8907 - mean_io_u: 0.7076\n"
     ]
    },
    {
     "name": "stderr",
     "output_type": "stream",
     "text": [
      "100%|█████████████████████████████████████████| 175/175 [00:16<00:00, 10.40it/s]\n"
     ]
    },
    {
     "name": "stdout",
     "output_type": "stream",
     "text": [
      "101/101 [==============================] - 2s 24ms/step - loss: 0.3104 - recall: 0.4407 - precision: 0.6765 - dice_coef: 0.6896 - true_skill_score: 0.7573 - mean_io_u: 0.6499\n"
     ]
    },
    {
     "name": "stderr",
     "output_type": "stream",
     "text": [
      "100%|█████████████████████████████████████████| 101/101 [00:09<00:00, 10.52it/s]\n"
     ]
    }
   ],
   "source": [
    "import postprocess\n",
    "from glob import glob\n",
    "\n",
    "batch_size = 1\n",
    "\n",
    "\n",
    "## Model\n",
    "with CustomObjectScope({'dice_loss': dice_loss, 'dice_coef': dice_coef, 'true_skill_score': true_skill_score}):\n",
    "    model = load_model(model_path)\n",
    "\n",
    "# TEST WIND\n",
    "\n",
    "test_genw = UnetGen(X_testw, Y_testw, length=int(t), stride = int(t),batch_size=batch_size)\n",
    "\n",
    "model.evaluate(test_genw, verbose=1)\n",
    "\n",
    "resultw = postprocess.generate_result(X_testw, Y_testw, model,C,t)\n",
    "\n",
    "# TEST STEREO A\n",
    "\n",
    "test_gena = UnetGen(X_testa, Y_testa, length=int(t), stride = int(t),batch_size=batch_size)\n",
    "\n",
    "model.evaluate(test_gena, verbose=1)\n",
    "\n",
    "resulta = postprocess.generate_result(X_testa, Y_testa, model,C,t)\n",
    "\n",
    "# TEST STEREO B\n",
    "\n",
    "test_genb = UnetGen(X_testb, Y_testb, length=int(t), stride = int(t),batch_size=batch_size)\n",
    "\n",
    "model.evaluate(test_genb, verbose=1)\n",
    "\n",
    "resultb = postprocess.generate_result(X_testb, Y_testb, model,C,t)"
   ]
  },
  {
   "cell_type": "code",
   "execution_count": 14,
   "id": "552449c3",
   "metadata": {},
   "outputs": [],
   "source": [
    "# evaluate WIND\n",
    "\n",
    "resultw.index = pds.to_datetime(resultw.index)\n",
    "resultbinw = postprocess.make_binary(resultw['pred'], 0.5)\n",
    "eventsw = postprocess.makeEventList(resultbinw, 1, 10)\n",
    "ICMEsw = postprocess.removeCreepy(eventsw, 3)\n",
    "test_cloudsw = [x for x in evtListw if (x.begin.year in testw)]\n",
    "\n",
    "# evaluate STEREO A\n",
    "\n",
    "resulta.index = pds.to_datetime(resulta.index)\n",
    "resultbina = postprocess.make_binary(resulta['pred'], 0.5)\n",
    "eventsa = postprocess.makeEventList(resultbina, 1, 10)\n",
    "ICMEsa = postprocess.removeCreepy(eventsa, 3)\n",
    "test_cloudsa = [x for x in evtLista if (x.begin.year in testa)]\n",
    "\n",
    "# evaluate STEREO B\n",
    "\n",
    "resultb.index = pds.to_datetime(resultb.index)\n",
    "resultbinb = postprocess.make_binary(resultb['pred'], 0.5)\n",
    "eventsb = postprocess.makeEventList(resultbinb, 1, 10)\n",
    "ICMEsb = postprocess.removeCreepy(eventsb, 3)\n",
    "test_cloudsb = [x for x in evtListb if (x.begin.year in testb)]"
   ]
  },
  {
   "cell_type": "markdown",
   "id": "0db47e11",
   "metadata": {},
   "source": [
    "We can then plot the events and their associated similarity values to compare true label to predicted label."
   ]
  },
  {
   "cell_type": "raw",
   "id": "stone-vision",
   "metadata": {},
   "source": [
    "#Plot events and associated similarity values\n",
    "\n",
    "for i in range(0, len(test_cloudsw)):\n",
    "    test_cloudsw[i].plot_similaritymap(datawin,20,i,'WIND ',resultw)\n",
    "    \n",
    "for i in range(0, len(test_cloudsa)):\n",
    "    test_cloudsa[i].plot_similaritymap(dataa,20,i,'STEREO A ',resulta)\n",
    "    \n",
    "for i in range(0, len(test_cloudsb)):\n",
    "    test_cloudsb[i].plot_similaritymap(datab,20,i,'STEREO B ',resultb)"
   ]
  },
  {
   "cell_type": "code",
   "execution_count": 15,
   "id": "e5171298-c547-44e3-8987-29bc6a03e06d",
   "metadata": {},
   "outputs": [
    {
     "name": "stdout",
     "output_type": "stream",
     "text": [
      "WIND:\n",
      "Precision is: 0.625\n",
      "Recall is: 0.45454545454545453\n",
      "True Positives 20\n",
      "False Negatives 24\n",
      "False Positives 12\n",
      "---------------------\n",
      "STEREO A:\n",
      "Precision is: 0.48\n",
      "Recall is: 0.6923076923076923\n",
      "True Positives 36\n",
      "False Negatives 16\n",
      "False Positives 39\n",
      "---------------------\n",
      "STEREO B:\n",
      "Precision is: 0.6\n",
      "Recall is: 0.5675675675675675\n",
      "True Positives 21\n",
      "False Negatives 16\n",
      "False Positives 14\n"
     ]
    }
   ],
   "source": [
    "# Score by event WIND\n",
    "\n",
    "print('WIND:')\n",
    "\n",
    "TPw, FNw, FPw, detectedw = postprocess.evaluate(ICMEsw, test_cloudsw, thres=0.1)\n",
    "print('Precision is:',len(TPw)/(len(TPw)+len(FPw)))\n",
    "print('Recall is:',len(TPw)/(len(TPw)+len(FNw)))\n",
    "print('True Positives', len(TPw))\n",
    "print('False Negatives', len(FNw))\n",
    "print('False Positives', len(FPw))\n",
    "\n",
    "# Score by event STEREO A\n",
    "\n",
    "print('---------------------')\n",
    "\n",
    "print('STEREO A:')\n",
    "\n",
    "TPa, FNa, FPa, detecteda = postprocess.evaluate(ICMEsa, test_cloudsa, thres=0.1)\n",
    "print('Precision is:',len(TPa)/(len(TPa)+len(FPa)))\n",
    "print('Recall is:',len(TPa)/(len(TPa)+len(FNa)))\n",
    "print('True Positives', len(TPa))\n",
    "print('False Negatives', len(FNa))\n",
    "print('False Positives', len(FPa))\n",
    "\n",
    "# Score by event STEREO B\n",
    "\n",
    "print('---------------------')\n",
    "\n",
    "print('STEREO B:')\n",
    "\n",
    "TPb, FNb, FPb, detectedb = postprocess.evaluate(ICMEsb, test_cloudsb, thres=0.1)\n",
    "print('Precision is:',len(TPb)/(len(TPb)+len(FPb)))\n",
    "print('Recall is:',len(TPb)/(len(TPb)+len(FNb)))\n",
    "print('True Positives', len(TPb))\n",
    "print('False Negatives', len(FNb))\n",
    "print('False Positives', len(FPb))"
   ]
  },
  {
   "cell_type": "code",
   "execution_count": 16,
   "id": "opposed-batch",
   "metadata": {},
   "outputs": [],
   "source": [
    "startlagw = []\n",
    "endlagw = []\n",
    "\n",
    "for i in range(0, len(detectedw)):\n",
    "    predstartw = TPw[i].begin\n",
    "    predendw = TPw[i].end\n",
    "    startlagw.append((predstartw-detectedw[i].begin).total_seconds()/60)\n",
    "    endlagw.append((predendw-detectedw[i].end).total_seconds()/60)\n",
    "    \n",
    "startlaga = []\n",
    "endlaga = []\n",
    "\n",
    "for i in range(0, len(detecteda)):\n",
    "    predstarta = TPa[i].begin\n",
    "    predenda = TPa[i].end\n",
    "    startlaga.append((predstarta-detecteda[i].begin).total_seconds()/60)\n",
    "    endlaga.append((predenda-detecteda[i].end).total_seconds()/60)\n",
    "    \n",
    "startlagb = []\n",
    "endlagb = []\n",
    "\n",
    "for i in range(0, len(detectedb)):\n",
    "    predstartb = TPb[i].begin\n",
    "    predendb = TPb[i].end\n",
    "    startlagb.append((predstartb-detectedb[i].begin).total_seconds()/60)\n",
    "    endlagb.append((predendb-detectedb[i].end).total_seconds()/60)"
   ]
  },
  {
   "cell_type": "code",
   "execution_count": 17,
   "id": "rolled-violin",
   "metadata": {},
   "outputs": [],
   "source": [
    "import pickle\n",
    "\n",
    "with open('startlag1'+str(split)+'.p', 'wb') as fp:\n",
    "    pickle.dump(startlaga, fp)\n",
    "    \n",
    "with open('endlag1'+str(split)+'.p', 'wb') as fp:\n",
    "    pickle.dump(endlaga, fp)\n",
    "\n",
    "with open('startlag2'+str(split)+'.p', 'wb') as fp:\n",
    "    pickle.dump(startlagb, fp)\n",
    "    \n",
    "with open('endlag2'+str(split)+'.p', 'wb') as fp:\n",
    "    pickle.dump(endlagb, fp)\n",
    "    \n",
    "with open('startlag0'+str(split)+'.p', 'wb') as fp:\n",
    "    pickle.dump(startlagw, fp)\n",
    "    \n",
    "with open('endlag0'+str(split)+'.p', 'wb') as fp:\n",
    "    pickle.dump(endlagw, fp)"
   ]
  },
  {
   "cell_type": "code",
   "execution_count": 18,
   "id": "quality-trout",
   "metadata": {},
   "outputs": [],
   "source": [
    "from sklearn.metrics import confusion_matrix, ConfusionMatrixDisplay\n",
    "import seaborn as sns\n",
    "from cm import make_confusion_matrix\n",
    "\n",
    "cmw = confusion_matrix(resultw['true'], resultbinw)\n",
    "cma = confusion_matrix(resulta['true'], resultbina)\n",
    "cmb = confusion_matrix(resultb['true'], resultbinb)\n",
    "\n",
    "np.savetxt('cmw'+str(split)+'.txt',cmw)\n",
    "cmeventw = np.array([[0,len(FPw)],[len(FNw),len(TPw)]])\n",
    "np.savetxt('cmeventw'+str(split)+'.txt',cmeventw)\n",
    "\n",
    "np.savetxt('cma'+str(split)+'.txt',cma)\n",
    "cmeventa = np.array([[0,len(FPa)],[len(FNa),len(TPa)]])\n",
    "np.savetxt('cmeventa'+str(split)+'.txt',cmeventa)\n",
    "\n",
    "np.savetxt('cmb'+str(split)+'.txt',cmb)\n",
    "cmeventb = np.array([[0,len(FPb)],[len(FNb),len(TPb)]])\n",
    "np.savetxt('cmeventb'+str(split)+'.txt',cmeventb)"
   ]
  },
  {
   "cell_type": "raw",
   "id": "ranging-columbus",
   "metadata": {},
   "source": [
    "#Plot FNs, FPs and Detected events\n",
    "\n",
    "for i in range(0, len(FNw)):\n",
    "    \n",
    "    FNw[i].iwfplotnopred(datawin, 20, 'WIND - FalseNegative')\n",
    "    \n",
    "for i in range(0, len(FPw)):\n",
    "    \n",
    "    FPw[i].iwfplotnopred(datawin, 20, 'WIND - FalsePositive')\n",
    "    \n",
    "    \n",
    "for i in range(0, len(detectedw)):\n",
    "    predstart = TPw[i].begin\n",
    "    predend = TPw[i].end\n",
    "    detectedw[i].iwfplot(datawin, 20, i, 'WIND - Detected-', predstart, predend)\n",
    "\n",
    "for i in range(0, len(FNa)):\n",
    "    \n",
    "    FNa[i].iwfplotnopred(dataa, 20, 'STEREO A - FalseNegative')\n",
    "    \n",
    "for i in range(0, len(FPa)):\n",
    "    \n",
    "    FPa[i].iwfplotnopred(dataa, 20, 'STEREO A - FalsePositive')\n",
    "    \n",
    "    \n",
    "for i in range(0, len(detecteda)):\n",
    "    predstart = TPa[i].begin\n",
    "    predend = TPa[i].end\n",
    "    detecteda[i].iwfplot(dataa, 20, i, 'STEREO A - Detected-', predstart, predend)\n",
    "\n",
    "for i in range(0, len(FNb)):\n",
    "    \n",
    "    FNb[i].iwfplotnopred(datab, 20, 'STEREO B - FalseNegative')\n",
    "    \n",
    "for i in range(0, len(FPb)):\n",
    "    \n",
    "    FPb[i].iwfplotnopred(datab, 20, 'STEREO B - FalsePositive')\n",
    "    \n",
    "    \n",
    "for i in range(0, len(detectedb)):\n",
    "    predstart = TPb[i].begin\n",
    "    predend = TPb[i].end\n",
    "    detectedb[i].iwfplot(datab, 20, i, 'STEREO B - Detected-', predstart, predend)"
   ]
  }
 ],
 "metadata": {
  "kernelspec": {
   "display_name": "newtfvenv",
   "language": "python",
   "name": "newtfvenv"
  },
  "language_info": {
   "codemirror_mode": {
    "name": "ipython",
    "version": 3
   },
   "file_extension": ".py",
   "mimetype": "text/x-python",
   "name": "python",
   "nbconvert_exporter": "python",
   "pygments_lexer": "ipython3",
   "version": "3.8.5"
  },
  "varInspector": {
   "cols": {
    "lenName": 16,
    "lenType": 16,
    "lenVar": 40
   },
   "kernels_config": {
    "python": {
     "delete_cmd_postfix": "",
     "delete_cmd_prefix": "del ",
     "library": "var_list.py",
     "varRefreshCmd": "print(var_dic_list())"
    },
    "r": {
     "delete_cmd_postfix": ") ",
     "delete_cmd_prefix": "rm(",
     "library": "var_list.r",
     "varRefreshCmd": "cat(var_dic_list()) "
    }
   },
   "types_to_exclude": [
    "module",
    "function",
    "builtin_function_or_method",
    "instance",
    "_Feature"
   ],
   "window_display": false
  }
 },
 "nbformat": 4,
 "nbformat_minor": 5
}
